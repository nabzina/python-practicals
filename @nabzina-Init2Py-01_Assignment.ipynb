{
 "cells": [
  {
   "cell_type": "markdown",
   "id": "8c441153",
   "metadata": {},
   "source": [
    "\n",
    "# Init2Py-01 – Conditionals & For loops\n",
    "\n",
    "-----------------------------------------------------------------October 24, 2021-----------------------------------\n",
    "\n",
    "# Summations and Products\n",
    "\n",
    "----------------------------------------------------------------------------------"
   ]
  },
  {
   "cell_type": "code",
   "execution_count": 1,
   "id": "14879d76",
   "metadata": {},
   "outputs": [
    {
     "name": "stdout",
     "output_type": "stream",
     "text": [
      "Enter un nombre : 4\n",
      "La somme des j allant de 0 à n-1 de est :  10\n"
     ]
    }
   ],
   "source": [
    " #Compute the following expressions for a natural number n chosen by the user\n",
    "n=int(input(\"Enter un nombre : \"))\n",
    "s=0\n",
    "for i in range(0, n):\n",
    "    if i%2==1:\n",
    "        s+=i+3\n",
    "print(\"La somme des j allant de 0 à n-1 de est : \", s) "
   ]
  },
  {
   "cell_type": "code",
   "execution_count": 2,
   "id": "0961bdce",
   "metadata": {},
   "outputs": [
    {
     "name": "stdout",
     "output_type": "stream",
     "text": [
      "Enter un nombre : 4\n",
      "La somme des i allant de 0 à n-1 de i+3 est :  15\n"
     ]
    }
   ],
   "source": [
    "n=int(input(\"Enter un nombre : \"))\n",
    "p=1\n",
    "for i in range(0, n):\n",
    "    if i%2==0:\n",
    "        p=p*(i+3)\n",
    "print(\"La somme des i allant de 0 à n-1 de i+3 est : \", p)"
   ]
  },
  {
   "cell_type": "code",
   "execution_count": 3,
   "id": "86bff8d4",
   "metadata": {},
   "outputs": [
    {
     "name": "stdout",
     "output_type": "stream",
     "text": [
      "Entrez le numéro du jour de la semaine (0-6) : 4\n",
      "\n",
      "Vendredi\n"
     ]
    }
   ],
   "source": [
    "# 2. Write a program that reads the number of the day of the week (from 0 to 6). If it is a\n",
    "#working day, then the program will write the name of the corresponding day. Otherwise,\n",
    "#it will write the word \"Weekend\".\n",
    "# Numéro de jour pris par l'utilisateur \n",
    "js = int ( input ( \"Entrez le numéro du jour de la semaine (0-6) : \" )) \n",
    "\n",
    "if js == 0 : print ( \"\\nlundi\" );  \n",
    "    \n",
    "\n",
    "elif js == 1 : print ( \"\\nmardi\" )  \n",
    "    \n",
    "\n",
    "elif ( js == 2 ) : print ( \"\\nmercredi\" )  \n",
    "    \n",
    "\n",
    "elif ( js == 3 ) : print ( \"\\nJeudi\" )  \n",
    "    \n",
    "\n",
    "elif ( js == 4 ) : print ( \"\\nVendredi\" )  \n",
    "    \n",
    "\n",
    "elif ( js == 5 ) : print ( \"\\nWeekend\" )  \n",
    "    \n",
    "\n",
    "elif ( js == 6 ) : print ( \"\\nWeekend\" )   \n",
    "    \n",
    "\n",
    "else : print ( \"\\nVeuillez entrer le numéro du jour de la semaine entre 0-6.\" ) \n",
    "    "
   ]
  },
  {
   "cell_type": "code",
   "execution_count": 4,
   "id": "b86dfe59",
   "metadata": {},
   "outputs": [
    {
     "name": "stdout",
     "output_type": "stream",
     "text": [
      "Entrez le numéro du mois compris entre (0-11) : 5\n",
      "Number of days: 31\n"
     ]
    }
   ],
   "source": [
    "from calendar import monthrange\n",
    "# 3. Make a program that, given a month number (from 0 to 11), indicates how many days it\n",
    "# has (28, 30 or 31), ignoring the leap years.\n",
    "anne=2021\n",
    "m = int ( input ( \"Entrez le numéro du mois compris entre (0-11) : \" )) \n",
    "print('Number of days: {}'.format( monthrange(anne, m)[1]))"
   ]
  },
  {
   "cell_type": "code",
   "execution_count": 14,
   "id": "1dca30cb",
   "metadata": {},
   "outputs": [
    {
     "name": "stdout",
     "output_type": "stream",
     "text": [
      "Seynabou\n",
      "Seynabou\n",
      "Seynabou\n"
     ]
    }
   ],
   "source": [
    "#4.Write two versions of python code that displays your name 3 times. One version with a\n",
    "#\"for loop\" and another version with a \"while loop\".\n",
    "myname=\"Seynabou\"\n",
    "i=0\n",
    "while i<3:\n",
    "    print(myname)\n",
    "    i+=1"
   ]
  },
  {
   "cell_type": "code",
   "execution_count": 15,
   "id": "6b8aaebe",
   "metadata": {},
   "outputs": [
    {
     "name": "stdout",
     "output_type": "stream",
     "text": [
      "Seynabou\n",
      "Seynabou\n",
      "Seynabou\n"
     ]
    }
   ],
   "source": [
    "for i in range(0,3):\n",
    "    print(\"Seynabou\")\n",
    "    i+=1"
   ]
  },
  {
   "cell_type": "code",
   "execution_count": 6,
   "id": "e3ec1096",
   "metadata": {},
   "outputs": [
    {
     "name": "stdout",
     "output_type": "stream",
     "text": [
      "Enter the initial values for a0  : 2\n",
      "Enter another initial values for a1  : 2\n",
      "4\n",
      "6\n",
      "10\n",
      "16\n",
      "26\n",
      "42\n",
      "68\n",
      "110\n",
      "178\n",
      "288\n",
      "466\n",
      "754\n",
      "1220\n",
      "1974\n",
      "3194\n",
      "5168\n"
     ]
    }
   ],
   "source": [
    "\"\"\"5.Given two numbers a0 and a1, the Fibonacci sequence they generate is constructed from\n",
    "the recursion formula an+1 = an + an−1. Calculate the ﬁrst 15 terms of a Fibonacci\n",
    "sequence, asking the user the initial values.\"\"\"\n",
    "a0= int ( input ( \"Enter the initial values for a0  : \" )) \n",
    "a1= int ( input ( \"Enter another initial values for a1  : \" )) \n",
    "for i in range(16):\n",
    "    an = a0 + a1\n",
    "    print(an)\n",
    "    a0=a1\n",
    "    a1=an"
   ]
  },
  {
   "cell_type": "code",
   "execution_count": 2,
   "id": "23ff3730",
   "metadata": {},
   "outputs": [
    {
     "name": "stdout",
     "output_type": "stream",
     "text": [
      "Enter the initial values for x0  : 1\n",
      "Enter another initial values for x1  : 3\n",
      "4.5\n",
      "11.25\n",
      "19.125\n",
      "43.3125\n",
      "79.03125\n",
      "169.453125\n",
      "321.8203125\n",
      "669.26953125\n",
      "1300.095703125\n",
      "2657.8564453125\n",
      "5229.21533203125\n",
      "10588.177001953125\n",
      "20981.734497070312\n",
      "42255.39825439453\n",
      "84072.9026184082\n",
      "168802.6460723877\n",
      "336620.03089141846\n",
      "674717.9536628723\n",
      "1347219.0695056915\n",
      "2697763.3957414627\n",
      "5390538.906387806\n",
      "10788559.640418291\n",
      "21565896.539372563\n",
      "43148627.190941155\n",
      "86272003.21358827\n",
      "172581883.17961758\n",
      "345106951.2305736\n",
      "690299125.1541395\n",
      "1380470416.2687905\n",
      "2761132583.5968137\n",
      "5521977540.604778\n"
     ]
    }
   ],
   "source": [
    "\"\"\"6. Compute the ﬁrst 30 terms of the sequence deﬁned by 2xn+2 − xn+1 − 6xn = 0 sequence,\n",
    "given any two initial values x0 and x1 \"\"\"\n",
    "x0= int ( input ( \"Enter the initial values for x0  : \" )) \n",
    "x1= int ( input ( \"Enter another initial values for x1  : \" )) \n",
    "xn=0\n",
    "for i in range(31):\n",
    "    xn=(1/2)*(x1+6*x0)\n",
    "    print(xn)\n",
    "    x0=x1\n",
    "    x1=xn"
   ]
  },
  {
   "cell_type": "code",
   "execution_count": 7,
   "id": "14d10677",
   "metadata": {},
   "outputs": [],
   "source": [
    "\"\"\" 7a. Write python code to determine whether or not a year is a leap year. Be sure you\n",
    "know what a leap year is. \"\"\"\n",
    "#A year is called a leap year if it contains an additional day which makes the number of the days in that year is 366.\n",
    "#This additional day is added in February which makes it 29 days long.\n",
    "def CheckLeap(Year):  \n",
    "    \"\"\"Checking if the given year is leap year\"\"\"\n",
    "    if((Year % 400 == 0) or  (Year % 100 != 0) and  (Year % 4 == 0)):\n",
    "        print(\"Given Year is a leap Year\");\n",
    "    else:\n",
    "        print (\"Given Year is not a leap Year\")  "
   ]
  },
  {
   "cell_type": "code",
   "execution_count": 10,
   "id": "dc1ced6e",
   "metadata": {},
   "outputs": [
    {
     "name": "stdout",
     "output_type": "stream",
     "text": [
      "Enter the number: 2021\n",
      "Given Year is not a leap Year\n"
     ]
    }
   ],
   "source": [
    "# Taking an input year from user  \n",
    "Year = int(input(\"Enter the number: \"))  \n",
    "# Printing result  \n",
    "CheckLeap(Year)  "
   ]
  },
  {
   "cell_type": "code",
   "execution_count": 8,
   "id": "d3b4e0fe",
   "metadata": {},
   "outputs": [
    {
     "name": "stdout",
     "output_type": "stream",
     "text": [
      "Entrer une annee : 2024\n"
     ]
    },
    {
     "data": {
      "text/plain": [
       "True"
      ]
     },
     "execution_count": 8,
     "metadata": {},
     "output_type": "execute_result"
    }
   ],
   "source": [
    "\"\"\"7b. Write the code using only logical operators, i.e. no conditional branching.\"\"\"\n",
    "b= int ( input ( \"Entrer une annee : \" ))\n",
    "b=(b%4)\n",
    "b==0"
   ]
  },
  {
   "cell_type": "code",
   "execution_count": 14,
   "id": "6962b3f5",
   "metadata": {},
   "outputs": [
    {
     "name": "stdout",
     "output_type": "stream",
     "text": [
      "Enter n : 4\n",
      "30\n"
     ]
    }
   ],
   "source": [
    "\"\"\"8a. Write python code that computes the sum of the square of the ﬁrst n natural numbers.\n",
    "One version with a \"for loop\" and another version with a \"while loop\".\"\"\"\n",
    "#Entrée :  N = 4\n",
    "#1**2 + 2**2 + 3**2 + 4**2\n",
    "# 1 + 4 + 9 + 16\n",
    "# The sum of squart will be : 30\n",
    "n = int(input(\"Enter n : \")) \n",
    "sq=0\n",
    "for i in range(1,n+1):\n",
    "    sq= sq + (i * i)\n",
    "print(sq)"
   ]
  },
  {
   "cell_type": "code",
   "execution_count": 1,
   "id": "b4c730a7",
   "metadata": {},
   "outputs": [
    {
     "name": "stdout",
     "output_type": "stream",
     "text": [
      "Enter n : 4\n",
      "30\n"
     ]
    }
   ],
   "source": [
    "#8a. using a while loop\n",
    "n = int(input(\"Enter a interger number : \")) \n",
    "_sq=0\n",
    "i=1\n",
    "while i < (n+1):\n",
    "    _sq= _sq + (i * i)\n",
    "    i=i+1\n",
    "print(_sq)"
   ]
  },
  {
   "cell_type": "code",
   "execution_count": null,
   "id": "3ad8a01e",
   "metadata": {},
   "outputs": [],
   "source": [
    "\"\"\"8b. Write python code that prints, for a natural number M, the smallest natural number n such that \n",
    "1**2 + 2**2 +· · ·+n**2 ≥ M. One version with a \"for loop\" and another version with a \"while loop\".\"\"\"\n"
   ]
  },
  {
   "cell_type": "code",
   "execution_count": 3,
   "id": "0589bbea",
   "metadata": {},
   "outputs": [
    {
     "name": "stdout",
     "output_type": "stream",
     "text": [
      "Enter a integer number : 10\n",
      "1\n",
      "2\n",
      "5\n",
      "10\n"
     ]
    }
   ],
   "source": [
    "\"\"\"9a. Write python code that prints all the divisors of a given natural number.\"\"\"\n",
    "n = int(input(\"Enter a integer number : \")) \n",
    "i = 1\n",
    "while i <= n:\n",
    "    if n%i==0:\n",
    "        print(i)\n",
    "    i = i + 1"
   ]
  },
  {
   "cell_type": "code",
   "execution_count": 4,
   "id": "4f21a109",
   "metadata": {},
   "outputs": [],
   "source": [
    "\"\"\"9b. Read an integer number input by the user and calculate its prime factors. This will\n",
    "just be some of its divisors.\"\"\"\n",
    "import math\n",
    "def primefactors(n):\n",
    "   #even number divisible\n",
    "   while n % 2 == 0:\n",
    "      print (2),\n",
    "      n = n / 2\n",
    "    \n",
    "   #n became odd\n",
    "   for i in range(3,int(math.sqrt(n))+1,2):\n",
    "     \n",
    "      while (n % i == 0):\n",
    "         print (i)\n",
    "         n = n / i\n",
    "    \n",
    "   if n > 2:\n",
    "      print (n)"
   ]
  },
  {
   "cell_type": "code",
   "execution_count": 5,
   "id": "8b9d5296",
   "metadata": {},
   "outputs": [
    {
     "name": "stdout",
     "output_type": "stream",
     "text": [
      "Enter the number for calculating the prime factors :\n",
      "10\n",
      "2\n",
      "5.0\n"
     ]
    }
   ],
   "source": [
    "n = int(input(\"Enter the number for calculating the prime factors :\\n\"))\n",
    "primefactors(n)"
   ]
  },
  {
   "cell_type": "code",
   "execution_count": 7,
   "id": "5702ed56",
   "metadata": {},
   "outputs": [
    {
     "name": "stdout",
     "output_type": "stream",
     "text": [
      "an integer number between n 0 and 9: \n",
      "8\n",
      "1 x  8 =  8\n",
      "2 x  8 =  16\n",
      "3 x  8 =  24\n",
      "4 x  8 =  32\n",
      "5 x  8 =  40\n",
      "6 x  8 =  48\n",
      "7 x  8 =  56\n",
      "8 x  8 =  64\n"
     ]
    }
   ],
   "source": [
    "\"\"\"10.Read an integer number between n 0 and 9 and print its multiplication table up to N\n",
    "where N is another another natural number read by the program.\"\"\"\n",
    "n = int(input(\"an integer number between n 0 and 9: \\n\"))\n",
    "tm=1\n",
    "for i in range(1, n+1):\n",
    "    tm=n*i\n",
    "    print(i, \"x \" , n, \"= \", tm)"
   ]
  },
  {
   "cell_type": "code",
   "execution_count": 11,
   "id": "371df9e7",
   "metadata": {},
   "outputs": [
    {
     "name": "stdout",
     "output_type": "stream",
     "text": [
      "1\n",
      "1\n",
      "1\n",
      "2\n",
      "2\n",
      "2\n",
      "3\n",
      "4\n",
      "4\n",
      "5\n",
      "5\n",
      "6\n",
      "7\n",
      "7\n",
      "8\n",
      "9\n",
      "9\n",
      "9\n",
      "10\n",
      "10\n",
      "10\n",
      "11\n",
      "12\n",
      "12\n",
      "13\n",
      "13\n",
      "13\n",
      "14\n",
      "15\n",
      "15\n",
      "16\n",
      "16\n",
      "16\n",
      "17\n",
      "17\n",
      "18\n",
      "19\n",
      "19\n",
      "19\n",
      "20\n",
      "20\n"
     ]
    }
   ],
   "source": [
    "\"\"\" 11. Write a program that prints all the numbers between 0 and 40 that are multiples of 3, 7\n",
    "or 11.\"\"\"\n",
    "res = 0\n",
    "for i in range(0, 41):\n",
    "    if (i % 3 == 0 or i % 7 == 0 or i % 11 == 0):\n",
    "        res += 1\n",
    "    print(res)"
   ]
  },
  {
   "cell_type": "code",
   "execution_count": null,
   "id": "5f2f3e74",
   "metadata": {},
   "outputs": [],
   "source": [
    "\"\"\"12. Write python code that prints the ﬂoor of a ﬂoat x. Recall that the ﬂoor of a ﬂoat x is the\n",
    "largest integer value less than or equal to x, i.e. if E[x] is the ﬂoor of x, then it satisﬁes,\n",
    "E[x] = 1 + E[x − 1] \n",
    "PS: On Friday, you will be asked to write a recursive version of the above program.\"\"\"\n"
   ]
  },
  {
   "cell_type": "code",
   "execution_count": null,
   "id": "4577962b",
   "metadata": {},
   "outputs": [],
   "source": [
    "\"\"\"13. Given a point in the plane by its Cartesian coordinates, determine in which quadrant it is\n",
    "(1st, 2nd, 3rd, 4th), if it lies on an axis, or if it is the origin. Do this for several points in\n",
    "the same execution of the program until the user quits.\"\"\""
   ]
  },
  {
   "cell_type": "code",
   "execution_count": null,
   "id": "4f817690",
   "metadata": {},
   "outputs": [],
   "source": [
    "\"\"\"14. Ask for an integer number between 0 and 9, denoted x. Once the user has entered a correct\n",
    "number (that is one in the range [0..10)) the program asks for a second integer number\n",
    "between 0 and 255, denoted max. The program continues asking for the number until it\n",
    "is correct (that it is in the range [0..256)). When this is done, show all multiples of x that\n",
    "are between 0 and max. Then, ask the user whether he/she wants to continue; if in the\n",
    "aﬃrmative, ask for another couple of numbers, otherwise ﬁnish.\"\"\"\n"
   ]
  }
 ],
 "metadata": {
  "kernelspec": {
   "display_name": "Python 3 (ipykernel)",
   "language": "python",
   "name": "python3"
  },
  "language_info": {
   "codemirror_mode": {
    "name": "ipython",
    "version": 3
   },
   "file_extension": ".py",
   "mimetype": "text/x-python",
   "name": "python",
   "nbconvert_exporter": "python",
   "pygments_lexer": "ipython3",
   "version": "3.8.7"
  }
 },
 "nbformat": 4,
 "nbformat_minor": 5
}
