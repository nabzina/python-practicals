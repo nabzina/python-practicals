{
 "cells": [
  {
   "cell_type": "markdown",
   "id": "8e8ee75d",
   "metadata": {},
   "source": [
    "# Init2Py-02 – Functions & Recursions\n",
    "------------------------------------------------------------------\n",
    "October 24, 2021\n",
    "---------------------------------------------------------------------------\n",
    "\n",
    "------------------------------------------------------------------------\n"
   ]
  },
  {
   "cell_type": "markdown",
   "id": "4fd95829",
   "metadata": {},
   "source": [
    "1.Write a python script that asks the user for the values of x and y and uses these inputs to\n",
    "compute the numerical value of the expression\n",
    "√x2+y/(1/x)+ 2 sin y\n",
    "."
   ]
  },
  {
   "cell_type": "code",
   "execution_count": 18,
   "id": "e5545fb6",
   "metadata": {},
   "outputs": [
    {
     "name": "stdout",
     "output_type": "stream",
     "text": [
      "Writing computeNumericalvalue.py\n"
     ]
    }
   ],
   "source": [
    "%%writefile computeNumericalvalue.py\n",
    "from math import* \n",
    "x=n=int(input(\"Enter the value of x : \"))\n",
    "y=int(input(\"Enter the value of y : \"))\n",
    "v=sqrt(x**(2+y)) / ((1/x) + 2*sin(y))\n",
    "print(v)"
   ]
  },
  {
   "cell_type": "code",
   "execution_count": 19,
   "id": "a28fc976",
   "metadata": {},
   "outputs": [
    {
     "name": "stdout",
     "output_type": "stream",
     "text": [
      "Enter the value of x : 1\n",
      "Enter the value of y : 2\n",
      "0.35478671179170884\n"
     ]
    }
   ],
   "source": [
    "%run -i computeNumericalvalue.py"
   ]
  },
  {
   "cell_type": "markdown",
   "id": "a3e83253",
   "metadata": {},
   "source": [
    "2.Write a function that given two integers b and n (n is positive), \n",
    "\n",
    "calculates b**n without using python’s power operator. Name this function ownpowerfn.py.\n",
    "\n",
    "PS: What if we do not specify that n has to be positive?"
   ]
  },
  {
   "cell_type": "code",
   "execution_count": 20,
   "id": "c7e99ebe",
   "metadata": {},
   "outputs": [
    {
     "name": "stdout",
     "output_type": "stream",
     "text": [
      "Overwriting ownpowerfn.py\n"
     ]
    }
   ],
   "source": [
    "%%writefile ownpowerfn.py\n",
    "#b=int(input(\"Enter a integer value of x : \"))\n",
    "#n=int(input(\"Enter a positif integer value : \"))\n",
    "def ownpowerfn(b,n):\n",
    "    if(n==0):\n",
    "        return 1\n",
    "         \n",
    "    answer=b\n",
    "    increment=b\n",
    "     \n",
    "    for i in range(1,n):\n",
    "        for j in range (1,n):\n",
    "            answer+=increment\n",
    "        increment=answer\n",
    "    return answer\n",
    " \n",
    "# driver code\n",
    "print(pow(5,3))"
   ]
  },
  {
   "cell_type": "code",
   "execution_count": 21,
   "id": "ad5fb9ce",
   "metadata": {},
   "outputs": [
    {
     "name": "stdout",
     "output_type": "stream",
     "text": [
      "125.0\n"
     ]
    }
   ],
   "source": [
    "%run -i ownpowerfn.py"
   ]
  },
  {
   "cell_type": "markdown",
   "id": "b8f7553f",
   "metadata": {},
   "source": [
    "### 3. Write functions that do the following :\n",
    "Takes two arguments, and computes their arithmetic and geometric means. Name\n",
    "these functions arithmetic_mean and geometric_mean respectively."
   ]
  },
  {
   "cell_type": "code",
   "execution_count": 23,
   "id": "9bf98dd4",
   "metadata": {},
   "outputs": [],
   "source": [
    "#3.a Takes two arguments, and computes their geometric means\n",
    "def geometric_mean(a,b):\n",
    "    multiplier = 1\n",
    "    valeurs = [a, b]\n",
    "    n = len(valeurs)\n",
    "    for i in valeurs:\n",
    "        multiplier = (multiplier)*(i)\n",
    "\n",
    "    geometricMean = (multiplier)**(1/n)\n",
    "    return geometricMean"
   ]
  },
  {
   "cell_type": "code",
   "execution_count": 24,
   "id": "e387d308",
   "metadata": {},
   "outputs": [
    {
     "data": {
      "text/plain": [
       "2.8284271247461903"
      ]
     },
     "execution_count": 24,
     "metadata": {},
     "output_type": "execute_result"
    }
   ],
   "source": [
    "geometric_mean(2, 4)"
   ]
  },
  {
   "cell_type": "code",
   "execution_count": 54,
   "id": "c96f0de9",
   "metadata": {},
   "outputs": [],
   "source": [
    "def arithmetic_mean(numbers=[2,4]):\n",
    "    ma=print(\"The arithmetic mean is =\",sum(numbers) / len(numbers))\n",
    "    return ma"
   ]
  },
  {
   "cell_type": "code",
   "execution_count": 55,
   "id": "37c89558",
   "metadata": {},
   "outputs": [
    {
     "name": "stdout",
     "output_type": "stream",
     "text": [
      "The arithmetic mean is = 3.0\n"
     ]
    }
   ],
   "source": [
    "arithmetic_mean()"
   ]
  },
  {
   "cell_type": "code",
   "execution_count": 27,
   "id": "57490ae8",
   "metadata": {},
   "outputs": [
    {
     "data": {
      "text/plain": [
       "73.4"
      ]
     },
     "execution_count": 27,
     "metadata": {},
     "output_type": "execute_result"
    }
   ],
   "source": [
    "#3.b) Converts degree Celsius to Fahrenheit and vice versa.\n",
    "def celcius_to_fahrenheit(dc):\n",
    "    convert=((dc*(9/5)) + 32)\n",
    "    return convert\n",
    "\n",
    "celcius_to_fahrenheit(23)"
   ]
  },
  {
   "cell_type": "code",
   "execution_count": 29,
   "id": "f25c664d",
   "metadata": {},
   "outputs": [
    {
     "data": {
      "text/plain": [
       "23.000000000000004"
      ]
     },
     "execution_count": 29,
     "metadata": {},
     "output_type": "execute_result"
    }
   ],
   "source": [
    "def fahrenheit_to_celcius(df):\n",
    "    convert=(df-32) * 5/9\n",
    "    return convert\n",
    "\n",
    "fahrenheit_to_celcius(73.4)"
   ]
  },
  {
   "cell_type": "code",
   "execution_count": 32,
   "id": "9518933f",
   "metadata": {},
   "outputs": [
    {
     "data": {
      "text/plain": [
       "0.5235987755982988"
      ]
     },
     "execution_count": 32,
     "metadata": {},
     "output_type": "execute_result"
    }
   ],
   "source": [
    "#3.c) Converts angle in degrees to radians and vice versa.\n",
    "def degrees_to_radians(d):\n",
    "    R = math.radians(d)\n",
    "    return R\n",
    "\n",
    "degrees_to_radians(30)"
   ]
  },
  {
   "cell_type": "code",
   "execution_count": 34,
   "id": "6d5bb415",
   "metadata": {},
   "outputs": [
    {
     "data": {
      "text/plain": [
       "29.79380534680281"
      ]
     },
     "execution_count": 34,
     "metadata": {},
     "output_type": "execute_result"
    }
   ],
   "source": [
    "def radians_to_degrees(r):\n",
    "    D = math.degrees(r)\n",
    "    return D\n",
    "\n",
    "radians_to_degrees(0.52)"
   ]
  },
  {
   "cell_type": "code",
   "execution_count": 35,
   "id": "f16260f9",
   "metadata": {},
   "outputs": [
    {
     "name": "stdout",
     "output_type": "stream",
     "text": [
      "La circonference du cercle est :  75.39822368615503 \n",
      " L'aire du cercle est :  452.3893421169302\n"
     ]
    }
   ],
   "source": [
    "#3.d - Computes the circumference and the area of a circle given the radius\n",
    "from math import* \n",
    "radius=12\n",
    "#radius = float(input(' Please Enter the radius of a circle: '))\n",
    "Area = pi * radius * radius\n",
    "Cir = 2 * pi * radius\n",
    "print(\"La circonference du cercle est : \", Cir , '\\n', \"L'aire du cercle est : \", Area)"
   ]
  },
  {
   "cell_type": "markdown",
   "id": "4430bc31",
   "metadata": {},
   "source": [
    "### 4. Write functions that do the following :\n",
    "a- Given two numbers, compute their average and geometrical mean and prints them.\n",
    "\n",
    "Now write a program that performs this process 10 times, taking as input the means\n",
    "computed in the previous step. Name this function avggeom.\n",
    "\n",
    "b- Write a function that computes the distance between two points in the plane. Use\n",
    "it in another program that computes the perimeter and the area of a triangle, given\n",
    "three points in the plane. Name this function distancefn"
   ]
  },
  {
   "cell_type": "code",
   "execution_count": 38,
   "id": "16c43825",
   "metadata": {},
   "outputs": [],
   "source": [
    "#4.a\n",
    "def avggeom(a, b):\n",
    "    m=(a+b)/2\n",
    "    geom=geometric_mean(a, b)\n",
    "    return print('the mean is :', m, '\\n',\"the geomean is : \", geom)"
   ]
  },
  {
   "cell_type": "code",
   "execution_count": 39,
   "id": "b5e5b6ee",
   "metadata": {},
   "outputs": [
    {
     "name": "stdout",
     "output_type": "stream",
     "text": [
      "the mean is : 3.0 \n",
      " the geomean is :  2.8284271247461903\n"
     ]
    }
   ],
   "source": [
    "avggeom(2, 4)"
   ]
  },
  {
   "cell_type": "code",
   "execution_count": null,
   "id": "0cdf5b00",
   "metadata": {},
   "outputs": [],
   "source": [
    "#4.b\n",
    "def distancefn():\n",
    "    return"
   ]
  },
  {
   "cell_type": "markdown",
   "id": "7f13010b",
   "metadata": {},
   "source": [
    "### 5.Write a program that oﬀers three options to the user :\n",
    "- Evaluation of factorial\n",
    "- Evaluation of a second degree equation\n",
    "- Exit\n",
    "\n",
    "The user selects one of the options and then the program requests the data needed and\n",
    "calls the corresponding function to produce a result. The program then repeats the process\n",
    "until the user says he wants to exit. Name this function fact2nddeg\n"
   ]
  },
  {
   "cell_type": "code",
   "execution_count": null,
   "id": "05b5801a",
   "metadata": {},
   "outputs": [],
   "source": [
    "#5.\n",
    "from math import factorial\n",
    "def fact2nddeg():\n",
    "    return"
   ]
  },
  {
   "cell_type": "markdown",
   "id": "99bd8664",
   "metadata": {},
   "source": [
    "6.For a ﬁxed real number x and a natural number n, we can deﬁne recursively x**n \n",
    "\n",
    "using the relations: x**0= 1 and x**n+1= x.x**n\n",
    "\n",
    "Write a function power(x,n) that implements the above recursion"
   ]
  },
  {
   "cell_type": "code",
   "execution_count": null,
   "id": "100ad5a7",
   "metadata": {},
   "outputs": [],
   "source": [
    "#6."
   ]
  },
  {
   "cell_type": "code",
   "execution_count": 30,
   "id": "35ab3838",
   "metadata": {},
   "outputs": [
    {
     "name": "stdout",
     "output_type": "stream",
     "text": [
      "2\n",
      "3\n",
      "5\n",
      "8\n",
      "13\n",
      "21\n",
      "34\n",
      "55\n",
      "89\n",
      "144\n",
      "233\n",
      "377\n",
      "610\n",
      "987\n",
      "1597\n",
      "2584\n",
      "4181\n",
      "6765\n",
      "10946\n",
      "17711\n",
      "28657\n",
      "46368\n",
      "75025\n",
      "121393\n",
      "196418\n",
      "317811\n",
      "514229\n",
      "832040\n",
      "1346269\n",
      "2178309\n",
      "3524578\n",
      "5702887\n",
      "9227465\n",
      "14930352\n",
      "24157817\n",
      "39088169\n",
      "63245986\n",
      "102334155\n",
      "165580141\n",
      "267914296\n",
      "433494437\n",
      "701408733\n",
      "1134903170\n",
      "1836311903\n",
      "2971215073\n",
      "4807526976\n",
      "7778742049\n",
      "12586269025\n",
      "20365011074\n",
      "32951280099\n",
      "53316291173\n",
      "86267571272\n",
      "139583862445\n",
      "225851433717\n",
      "365435296162\n",
      "591286729879\n",
      "956722026041\n",
      "1548008755920\n",
      "2504730781961\n",
      "4052739537881\n",
      "6557470319842\n",
      "10610209857723\n",
      "17167680177565\n",
      "27777890035288\n",
      "44945570212853\n",
      "72723460248141\n",
      "117669030460994\n",
      "190392490709135\n",
      "308061521170129\n",
      "498454011879264\n",
      "806515533049393\n",
      "1304969544928657\n",
      "2111485077978050\n",
      "3416454622906707\n",
      "5527939700884757\n",
      "8944394323791464\n",
      "14472334024676221\n",
      "23416728348467685\n",
      "37889062373143906\n",
      "61305790721611591\n",
      "99194853094755497\n",
      "160500643816367088\n",
      "259695496911122585\n",
      "420196140727489673\n",
      "679891637638612258\n",
      "1100087778366101931\n",
      "1779979416004714189\n",
      "2880067194370816120\n",
      "4660046610375530309\n",
      "7540113804746346429\n",
      "12200160415121876738\n",
      "19740274219868223167\n",
      "31940434634990099905\n",
      "51680708854858323072\n",
      "83621143489848422977\n",
      "135301852344706746049\n",
      "218922995834555169026\n",
      "354224848179261915075\n",
      "573147844013817084101\n",
      "927372692193078999176\n",
      "1500520536206896083277\n"
     ]
    }
   ],
   "source": [
    "#7.Write code that implements the Fibonacci sequence. Test your program at 100.\"\"\"\n",
    "a=1\n",
    "b=1\n",
    "for i in range(101):\n",
    "    s=a+b\n",
    "    print(s)\n",
    "    a=b\n",
    "    b=s"
   ]
  }
 ],
 "metadata": {
  "kernelspec": {
   "display_name": "Python 3 (ipykernel)",
   "language": "python",
   "name": "python3"
  },
  "language_info": {
   "codemirror_mode": {
    "name": "ipython",
    "version": 3
   },
   "file_extension": ".py",
   "mimetype": "text/x-python",
   "name": "python",
   "nbconvert_exporter": "python",
   "pygments_lexer": "ipython3",
   "version": "3.8.7"
  }
 },
 "nbformat": 4,
 "nbformat_minor": 5
}
