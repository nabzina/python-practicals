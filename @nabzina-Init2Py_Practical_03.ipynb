{
 "cells": [
  {
   "cell_type": "markdown",
   "metadata": {
    "id": "12_fdbLn8p4A"
   },
   "source": [
    "\n",
    "\n",
    "    \n",
    "#    <center> <b> <span style=\"color:orange;\" >  `Python for Scientific Computing and Software Engineering ` </span> </b></center>\n",
    "\n",
    "\n",
    "## <center> <b> <span style=\"color:orange;\"> An Initiation to Programming using Python (Init2Py) </span> </b></center>\n",
    "\n",
    "### <center> <b> <span style=\"color:blue;\"> Travaux Pratiques: Objets itérables ou conteneurs</span> </b></center>\n"
   ]
  },
  {
   "cell_type": "markdown",
   "metadata": {
    "id": "E_ZB23H68p4D"
   },
   "source": [
    "###  <center> <b> <span style=\"color:blue;\"> Listes </span> </b></center>"
   ]
  },
  {
   "cell_type": "markdown",
   "metadata": {
    "id": "TAzYC_Ev8p4F"
   },
   "source": [
    "##                           Seynabou NDOUR, etudiante en Master COOP\n",
    "\n",
    "================================================="
   ]
  },
  {
   "cell_type": "markdown",
   "metadata": {
    "id": "H0cIcjGk8p4G"
   },
   "source": [
    "#### **Exercice 00:** \n",
    ">**Déclarer une liste vide.**"
   ]
  },
  {
   "cell_type": "code",
   "execution_count": 1,
   "metadata": {
    "id": "45QEMilz8p4I"
   },
   "outputs": [],
   "source": [
    "maliste0=[]"
   ]
  },
  {
   "cell_type": "markdown",
   "metadata": {
    "id": "zZ0XnwpB8p4J"
   },
   "source": [
    "#### **Exercice 01:** \n",
    ">**Déclarer une liste de plus de 5 éléments.**"
   ]
  },
  {
   "cell_type": "code",
   "execution_count": 2,
   "metadata": {
    "id": "HV32hLfA8p4L"
   },
   "outputs": [],
   "source": [
    "maliste5=[4, 5, 6, 'awa', 8, 'seyna', 7, 'Marie']"
   ]
  },
  {
   "cell_type": "markdown",
   "metadata": {
    "id": "tJpy6kNz8p4M"
   },
   "source": [
    "#### **Exercice 02:** \n",
    ">**Trouver la longueur de votre liste.**"
   ]
  },
  {
   "cell_type": "code",
   "execution_count": 3,
   "metadata": {
    "id": "627A_RNw8p4O"
   },
   "outputs": [
    {
     "name": "stdout",
     "output_type": "stream",
     "text": [
      "8\n"
     ]
    }
   ],
   "source": [
    "print(len(maliste5))"
   ]
  },
  {
   "cell_type": "markdown",
   "metadata": {
    "id": "unFrwT5t8p4Q"
   },
   "source": [
    "#### **Exercice 03:** \n",
    ">**Obtenez le premier élément, l'élément central et le dernier élément de la liste.**\n",
    "\n"
   ]
  },
  {
   "cell_type": "code",
   "execution_count": 4,
   "metadata": {
    "id": "MUuc1gaQ8p4R"
   },
   "outputs": [
    {
     "name": "stdout",
     "output_type": "stream",
     "text": [
      "4 \n",
      " awa \n",
      " Marie\n"
     ]
    }
   ],
   "source": [
    "print(maliste5[0],'\\n', maliste5[3], '\\n', maliste5[-1])"
   ]
  },
  {
   "cell_type": "markdown",
   "metadata": {
    "id": "4Rqp8q0L8p4R"
   },
   "source": [
    "#### **Exercice 04:** \n",
    ">**Déclarez une liste appelée mixed_data_types, mettez votre (nom, âge, taille, état civil, adresse).**"
   ]
  },
  {
   "cell_type": "code",
   "execution_count": 5,
   "metadata": {
    "id": "EoZPW2UH8p4S"
   },
   "outputs": [
    {
     "name": "stdout",
     "output_type": "stream",
     "text": [
      "['Seynabou', 28, 176.2, 'marie', 'Zone Residentielle']\n"
     ]
    }
   ],
   "source": [
    "#mixed_data_types={'monNom': 'Seynabou', monAge: 28, maTaille: 176.2, monEtatcivil: 'marie', monAdress: 'Zone Residentielle'}\n",
    "mixed_data_types=['Seynabou', 28, 176.2, 'marie','Zone Residentielle']\n",
    "print(mixed_data_types)"
   ]
  },
  {
   "cell_type": "markdown",
   "metadata": {
    "id": "OPYSNV1l8p4T"
   },
   "source": [
    "#### **Exercice 05:** \n",
    "\n",
    "    1. Déclarez une variable liste appelée it_companies et attribuez les valeurs initiales Facebook, Google, Microsoft, Apple, IBM, Oracle et Amazon.\n",
    "\n",
    "    2. Imprimez la liste à l'aide de print()\n",
    "\n",
    "    3. Imprimez le nombre d'entreprises dans la liste\n",
    "\n",
    "    4. Imprimez la première, la moyenne et la dernière entreprise\n",
    "\n",
    "    5. Imprimez la liste après avoir modifié l'une des entreprises.\n",
    "\n",
    "    6. Ajout d'une entreprise informatique à it_companies\n",
    "\n",
    "    7. Insérer une entreprise informatique au milieu de la liste des entreprises\n",
    "\n",
    "    8. Changez le nom d'une des it_companies en majuscule (sauf IBM !)\n",
    "\n",
    "    9. Joignez les it_companies avec une chaîne '# ; '.\n",
    "\n",
    "    10. Vérifier si une certaine entreprise existe dans la liste it_companies.\n",
    "\n",
    "    11. Trier la liste en utilisant la méthode sort()\n",
    "\n",
    "    12. Inversez la liste par ordre décroissant à l'aide de la méthode reverse().\n",
    "\n",
    "    13. Supprimez les 3 premières entreprises de la liste.\n",
    "\n",
    "    14. Supprimez les 3 dernières entreprises de la liste.\n",
    "\n",
    "    15. Supprimez la ou les entreprises informatiques du milieu de la liste.\n",
    "\n",
    "    16. Supprimez la première entreprise informatique de la liste\n",
    "\n",
    "    17. Supprimez la ou les entreprises informatiques du milieu de la liste.\n",
    "\n",
    "    18. Retirer la dernière entreprise informatique de la liste\n",
    "\n",
    "    19. Supprimez toutes les entreprises informatiques de la liste\n",
    "\n",
    "    20. Détruire la liste des entreprises informatiques"
   ]
  },
  {
   "cell_type": "code",
   "execution_count": 58,
   "metadata": {
    "id": "4M_XODba8p4V"
   },
   "outputs": [
    {
     "name": "stdout",
     "output_type": "stream",
     "text": [
      "La liste est :  ['Facebook', 'Google', 'Microsoft', 'Apple', 'IBM', 'Oracle', 'Amazon']\n"
     ]
    }
   ],
   "source": [
    "it_companies=['Facebook', 'Google', 'Microsoft', 'Apple', 'IBM', 'Oracle', 'Amazon']\n",
    "#Imprimez la liste à l'aide de print()\n",
    "print('La liste est : ', it_companies)"
   ]
  },
  {
   "cell_type": "code",
   "execution_count": 59,
   "metadata": {},
   "outputs": [
    {
     "name": "stdout",
     "output_type": "stream",
     "text": [
      "7\n"
     ]
    }
   ],
   "source": [
    "#2.Imprimez le nombre d'entreprises dans la liste\n",
    "print(len(it_companies))"
   ]
  },
  {
   "cell_type": "code",
   "execution_count": 60,
   "metadata": {},
   "outputs": [
    {
     "name": "stdout",
     "output_type": "stream",
     "text": [
      "Facebook \n",
      " Apple \n",
      " Amazon\n"
     ]
    }
   ],
   "source": [
    "#3.Imprimez la première, la moyenne et la dernière entreprise'\n",
    "print(it_companies[0], '\\n', it_companies[3], '\\n',it_companies[-1])"
   ]
  },
  {
   "cell_type": "code",
   "execution_count": 61,
   "metadata": {},
   "outputs": [
    {
     "name": "stdout",
     "output_type": "stream",
     "text": [
      "['Facebook', 'GoogleChrome', 'Microsoft', 'Apple', 'IBM', 'Oracle', 'Amazon']\n"
     ]
    }
   ],
   "source": [
    "#4.Imprimez la liste après avoir modifié l'une des entreprises\n",
    "it_companies[1] = it_companies[1] + 'Chrome'\n",
    "print(it_companies)"
   ]
  },
  {
   "cell_type": "code",
   "execution_count": 10,
   "metadata": {},
   "outputs": [],
   "source": [
    "#6. Ajout d'une entreprise informatique à it_companies: Question doublon"
   ]
  },
  {
   "cell_type": "code",
   "execution_count": 62,
   "metadata": {},
   "outputs": [
    {
     "name": "stdout",
     "output_type": "stream",
     "text": [
      "['Facebook', 'GoogleChrome', 'Microsoft', 'Apple', 'Linkdn', 'IBM', 'Oracle', 'Amazon']\n"
     ]
    }
   ],
   "source": [
    "#7. Insérer une entreprise informatique au milieu de la liste des entreprises\n",
    "it_companies.insert(4,'Linkdn')\n",
    "print(it_companies)"
   ]
  },
  {
   "cell_type": "code",
   "execution_count": 63,
   "metadata": {},
   "outputs": [
    {
     "name": "stdout",
     "output_type": "stream",
     "text": [
      "['Facebook', 'GoogleChrome', 'Microsoft', 'APPLE', 'Linkdn', 'IBM', 'Oracle', 'Amazon']\n"
     ]
    }
   ],
   "source": [
    "#8. Changez le nom d'une des it_companies en majuscule (sauf IBM !)\n",
    "it_companies[3]=it_companies[3].upper()\n",
    "print(it_companies)"
   ]
  },
  {
   "cell_type": "code",
   "execution_count": 22,
   "metadata": {},
   "outputs": [
    {
     "name": "stdout",
     "output_type": "stream",
     "text": [
      "============ Copy my list to keep safe my original list ============\n"
     ]
    }
   ],
   "source": [
    "print('============ Copy my list to keep safe my original list ============')"
   ]
  },
  {
   "cell_type": "code",
   "execution_count": 64,
   "metadata": {},
   "outputs": [
    {
     "name": "stdout",
     "output_type": "stream",
     "text": [
      "['Facebook', 'GoogleChrome', 'Microsoft', 'APPLE', 'Linkdn', 'IBM', 'Oracle', 'Amazon']\n"
     ]
    }
   ],
   "source": [
    "# I copy my list for test\n",
    "#it_companies2=it_companies.copy() # si on modifie la copie, l'original sera modifier\n",
    "#it_companies2= it_companies[:] # copie superficielle de la liste pour garder intacte l'original\n",
    "it_companies_copie= it_companies[:] # copie superficielle de la liste pour garder intacte l'original\n",
    "print(it_companies_copie)"
   ]
  },
  {
   "cell_type": "code",
   "execution_count": 21,
   "metadata": {},
   "outputs": [
    {
     "name": "stdout",
     "output_type": "stream",
     "text": [
      "=================== Continue ==================================\n"
     ]
    }
   ],
   "source": [
    "print('=================== Continue ==================================')"
   ]
  },
  {
   "cell_type": "code",
   "execution_count": 65,
   "metadata": {},
   "outputs": [
    {
     "name": "stdout",
     "output_type": "stream",
     "text": [
      "Facebook# ;GoogleChrome# ;Microsoft# ;APPLE# ;Linkdn# ;IBM# ;Oracle# ;Amazon\n"
     ]
    }
   ],
   "source": [
    "#9. Joignez les it_companies avec une chaîne '# ; ' avec la methode .join() with lists\n",
    "maChaine = '# ;'\n",
    "it_companies_copie=maChaine.join(it_companies_copie)\n",
    "\n",
    "#it_companies_copie=str.join('#; ', it_companies_copie)\n",
    "\n",
    "print(it_companies_copie)"
   ]
  },
  {
   "cell_type": "code",
   "execution_count": 66,
   "metadata": {},
   "outputs": [
    {
     "name": "stdout",
     "output_type": "stream",
     "text": [
      "['Facebook# ', 'GoogleChrome# ', 'Microsoft# ', 'APPLE# ', 'Linkdn# ', 'IBM# ', 'Oracle# ', 'Amazon']\n"
     ]
    }
   ],
   "source": [
    "it_companies_copie=it_companies_copie.split(';')\n",
    "print(it_companies_copie)"
   ]
  },
  {
   "cell_type": "code",
   "execution_count": 67,
   "metadata": {},
   "outputs": [
    {
     "name": "stdout",
     "output_type": "stream",
     "text": [
      "True\n"
     ]
    }
   ],
   "source": [
    "#10. Vérifier si une certaine entreprise existe dans la liste it_companies.\n",
    "print('Facebook# ' in it_companies_copie)"
   ]
  },
  {
   "cell_type": "code",
   "execution_count": 68,
   "metadata": {},
   "outputs": [
    {
     "name": "stdout",
     "output_type": "stream",
     "text": [
      "['APPLE# ', 'Amazon', 'Facebook# ', 'GoogleChrome# ', 'IBM# ', 'Linkdn# ', 'Microsoft# ', 'Oracle# ']\n"
     ]
    }
   ],
   "source": [
    "#11. Trier la liste en utilisant la méthode sort()\n",
    "it_companies_copie.sort()\n",
    "print(it_companies_copie)"
   ]
  },
  {
   "cell_type": "code",
   "execution_count": 69,
   "metadata": {},
   "outputs": [
    {
     "name": "stdout",
     "output_type": "stream",
     "text": [
      "['Oracle# ', 'Microsoft# ', 'Linkdn# ', 'IBM# ', 'GoogleChrome# ', 'Facebook# ', 'Amazon', 'APPLE# ']\n"
     ]
    }
   ],
   "source": [
    "#12. Inversez la liste par ordre décroissant à l'aide de la méthode reverse(). #it_companies.reverse()\n",
    "it_companies_copie.sort(reverse=True)\n",
    "print(it_companies_copie)\n",
    "#sorted(it_companies, reverse=True)\n"
   ]
  },
  {
   "cell_type": "code",
   "execution_count": 70,
   "metadata": {},
   "outputs": [
    {
     "name": "stdout",
     "output_type": "stream",
     "text": [
      "['IBM# ', 'GoogleChrome# ', 'Facebook# ', 'Amazon', 'APPLE# ']\n"
     ]
    }
   ],
   "source": [
    "#13-Supprimez les 3 premières entreprises de la liste.\n",
    "del it_companies_copie[0:3]\n",
    "print(it_companies_copie)"
   ]
  },
  {
   "cell_type": "code",
   "execution_count": 71,
   "metadata": {},
   "outputs": [
    {
     "name": "stdout",
     "output_type": "stream",
     "text": [
      "['IBM# ', 'GoogleChrome# ']\n"
     ]
    }
   ],
   "source": [
    "#14. Supprimez les 3 dernières entreprises de la liste.\n",
    "del it_companies_copie[2:]\n",
    "print(it_companies_copie)"
   ]
  },
  {
   "cell_type": "code",
   "execution_count": 72,
   "metadata": {},
   "outputs": [
    {
     "name": "stdout",
     "output_type": "stream",
     "text": [
      "['Facebook', 'GoogleChrome', 'Microsoft', 'APPLE', 'Linkdn', 'IBM', 'Oracle', 'Amazon']\n"
     ]
    }
   ],
   "source": [
    "# Faisons une copie de notre liste initial afin de continuer les operations.\n",
    "it_companies_copie2= it_companies[:] \n",
    "print(it_companies_copie2)"
   ]
  },
  {
   "cell_type": "code",
   "execution_count": 73,
   "metadata": {},
   "outputs": [
    {
     "name": "stdout",
     "output_type": "stream",
     "text": [
      "['Facebook', 'GoogleChrome', 'Microsoft', 'IBM', 'Oracle', 'Amazon']\n"
     ]
    }
   ],
   "source": [
    "#15. Supprimez la ou les entreprises informatiques du milieu de la liste.\n",
    "del it_companies_copie2[3:5]\n",
    "print(it_companies_copie2)"
   ]
  },
  {
   "cell_type": "code",
   "execution_count": 74,
   "metadata": {},
   "outputs": [
    {
     "name": "stdout",
     "output_type": "stream",
     "text": [
      "['GoogleChrome', 'Microsoft', 'IBM', 'Oracle', 'Amazon']\n"
     ]
    }
   ],
   "source": [
    "#16. Supprimez la première entreprise informatique de la liste\n",
    "del it_companies_copie2[0]\n",
    "print(it_companies_copie2)"
   ]
  },
  {
   "cell_type": "code",
   "execution_count": 47,
   "metadata": {},
   "outputs": [],
   "source": [
    "#17. Supprimez la ou les entreprises informatiques du milieu de la liste. QUESTION DOUBLON"
   ]
  },
  {
   "cell_type": "code",
   "execution_count": 75,
   "metadata": {},
   "outputs": [
    {
     "name": "stdout",
     "output_type": "stream",
     "text": [
      "['GoogleChrome', 'Microsoft', 'IBM', 'Oracle']\n"
     ]
    }
   ],
   "source": [
    "#18. Retirer la dernière entreprise informatique de la liste\n",
    "del it_companies_copie2[-1]\n",
    "print(it_companies_copie2)"
   ]
  },
  {
   "cell_type": "markdown",
   "metadata": {
    "id": "AfauolZA8p4V"
   },
   "source": [
    "#### **Exercice 06:** \n",
    "**Joindre les listes suivantes :**\n",
    "     \n",
    "         front_end = ['HTML', 'CSS', 'JS', 'React', 'Redux']  \n",
    "         back_end = ['Node','Express', 'MongoDB']"
   ]
  },
  {
   "cell_type": "code",
   "execution_count": 76,
   "metadata": {},
   "outputs": [],
   "source": [
    "front_end = ['HTML', 'CSS', 'JS', 'React', 'Redux']  \n",
    "back_end = ['Node','Express', 'MongoDB']"
   ]
  },
  {
   "cell_type": "code",
   "execution_count": 77,
   "metadata": {},
   "outputs": [],
   "source": [
    "malist=front_end+back_end"
   ]
  },
  {
   "cell_type": "code",
   "execution_count": 78,
   "metadata": {
    "id": "6V8OXDSW8p4W"
   },
   "outputs": [
    {
     "name": "stdout",
     "output_type": "stream",
     "text": [
      "['HTML', 'CSS', 'JS', 'React', 'Redux', 'Node', 'Express', 'MongoDB']\n"
     ]
    }
   ],
   "source": [
    "print(malist)"
   ]
  },
  {
   "cell_type": "markdown",
   "metadata": {
    "id": "kASFM1bh8p4X"
   },
   "source": [
    "#### **Exercice 07:** \n",
    "Voici une liste de 10 âges d'étudiants :\n",
    "\n",
    "         ages = [19, 22, 19, 24, 20, 25, 26, 24, 25, 24]\n",
    "         \n",
    " \n",
    "    1. Trier la liste et trouver l'âge minimum et maximum.\n",
    "    2. Ajoutez à nouveau l'âge minimum et l'âge maximum à la liste.\n",
    "    3. Trouvez l'âge médian (un élément du milieu ou deux éléments du milieu divisés par deux).\n",
    "    4. Trouvez l'âge moyen (somme de tous les éléments divisée par leur nombre).\n",
    "    4. Trouver l'intervalle des âges (max moins min)\n",
    "    5. Comparez les valeurs de (min - moyenne) et (max - moyenne) en utilisant la méthode abs().\n",
    "        "
   ]
  },
  {
   "cell_type": "code",
   "execution_count": 79,
   "metadata": {
    "id": "TWTGGaOO8p4Z"
   },
   "outputs": [],
   "source": [
    "#1. Trier la liste et trouver l'âge minimum et maximum.\n",
    "ages = [19, 22, 19, 24, 20, 25, 26, 24, 25, 24]\n"
   ]
  },
  {
   "cell_type": "code",
   "execution_count": 80,
   "metadata": {},
   "outputs": [
    {
     "name": "stdout",
     "output_type": "stream",
     "text": [
      "[19, 19, 20, 22, 24, 24, 24, 25, 25, 26]\n"
     ]
    }
   ],
   "source": [
    "ages.sort()\n",
    "print(ages)"
   ]
  },
  {
   "cell_type": "code",
   "execution_count": 81,
   "metadata": {
    "id": "TEtbXitA8p4h"
   },
   "outputs": [
    {
     "name": "stdout",
     "output_type": "stream",
     "text": [
      "l'age minimum de la liste est :  19\n",
      "l'age maximum de la list est :  26\n"
     ]
    }
   ],
   "source": [
    "min_age=min(ages)\n",
    "print(\"l'age minimum de la liste est : \", min_age)\n",
    "max_age=max(ages)\n",
    "print(\"l'age maximum de la list est : \", max_age)"
   ]
  },
  {
   "cell_type": "code",
   "execution_count": 82,
   "metadata": {},
   "outputs": [
    {
     "name": "stdout",
     "output_type": "stream",
     "text": [
      "24.0\n"
     ]
    }
   ],
   "source": [
    "#2.Trouvez l'âge médian (un élément du milieu ou deux éléments du milieu divisés par deux).\n",
    "# We select the two middle values, and divide them by 2\n",
    "median_age=(24+24)/2\n",
    "print(median_age)"
   ]
  },
  {
   "cell_type": "code",
   "execution_count": 83,
   "metadata": {},
   "outputs": [
    {
     "name": "stdout",
     "output_type": "stream",
     "text": [
      "l'age moyenne de la liste est:  22.8\n"
     ]
    }
   ],
   "source": [
    "#3.Trouvez l'âge moyen (somme de tous les éléments divisée par leur nombre).\n",
    "def mean(dataset):\n",
    "    mean_age=sum(dataset) / len(dataset)\n",
    "    return mean_age\n",
    "\n",
    "print(\"l'age moyenne de la liste est: \", mean(ages))"
   ]
  },
  {
   "cell_type": "code",
   "execution_count": 84,
   "metadata": {},
   "outputs": [
    {
     "name": "stdout",
     "output_type": "stream",
     "text": [
      "7\n"
     ]
    }
   ],
   "source": [
    "#4. Trouver l'intervalle des âges (max moins min)\n",
    "interval_ages=max_age-min_age\n",
    "print(interval_ages)\n"
   ]
  },
  {
   "cell_type": "code",
   "execution_count": 85,
   "metadata": {},
   "outputs": [
    {
     "name": "stdout",
     "output_type": "stream",
     "text": [
      "3.8000000000000007 = v1 est plus grand que v2 =  3.1999999999999993\n"
     ]
    }
   ],
   "source": [
    "# 5. Comparez les valeurs de (min - moyenne) et (max - moyenne) en utilisant la méthode abs().\n",
    "v1=min_age - mean(ages)\n",
    "v2=max_age - mean(ages)\n",
    "# print(v1, v2)\n",
    "if abs(v1)> abs(v2):\n",
    "    print( abs(v1), '= v1 est plus grand que v2 = ', abs(v2))\n",
    "else:\n",
    "    print(\"v2 est plus grand que v1\")"
   ]
  },
  {
   "cell_type": "markdown",
   "metadata": {
    "id": "bF7FI4iT8p4i"
   },
   "source": [
    "###  <center> <b> <span style=\"color:blue;\"> Dictionnaires </span> </b></center>"
   ]
  },
  {
   "cell_type": "markdown",
   "metadata": {
    "id": "VzcSJMf18p4j"
   },
   "source": [
    "\n",
    "1. Créer un dictionnaire vide appelé `dog`\n",
    "2. Ajoute le nom, la couleur, la race, les pattes, l'âge au dictionnaire dog.\n",
    "3. Créez un dictionnaire student et ajoutez le prénom, le nom, le sexe, l'âge, l'état civil, les compétences, le pays, la ville et l'adresse comme clés pour le dictionnaire.\n",
    "4. Obtenez la longueur du dictionnaire student\n",
    "5. Récupérez la valeur des compétences et vérifiez le type de données, il doit s'agir d'une liste.\n",
    "6. Modifiez les valeurs des compétences en ajoutant une ou deux compétences.\n",
    "7. Obtenez les clés du dictionnaire sous forme de liste\n",
    "8. Obtenir les valeurs du dictionnaire sous forme de liste\n",
    "9. Transformer le dictionnaire en une liste de tuples en utilisant la méthode items()\n",
    "10. Supprimer un des éléments du dictionnaire\n",
    "11. Supprimer un des dictionnaires\n"
   ]
  },
  {
   "cell_type": "code",
   "execution_count": 86,
   "metadata": {
    "id": "LJ6DfBUh8p4k"
   },
   "outputs": [],
   "source": [
    "# 1.Créer un dictionnaire vide appelé dog\n",
    "dog={}"
   ]
  },
  {
   "cell_type": "code",
   "execution_count": 87,
   "metadata": {
    "id": "rNdDqviE8p4l"
   },
   "outputs": [
    {
     "name": "stdout",
     "output_type": "stream",
     "text": [
      "{'nom': 'Gold', 'couleur': 'Gris', 'pattes': 4, 'âge': 5}\n"
     ]
    }
   ],
   "source": [
    "# 2.Ajoute le nom, la couleur, la race, les pattes, l'âge au dictionnaire dog.\n",
    "dog['nom']='Gold'\n",
    "dog['couleur']='Gris'\n",
    "dog['pattes']=4\n",
    "dog['âge']=5\n",
    "print(dog)"
   ]
  },
  {
   "cell_type": "code",
   "execution_count": 88,
   "metadata": {},
   "outputs": [
    {
     "name": "stdout",
     "output_type": "stream",
     "text": [
      "{'prenom': 'Seynabou', 'nom': 'Ndour', 'sexe': 'F', 'âge': 28, 'etat_civil': 'marié', 'Compétences': ['Statistiques', 'Informatique'], 'pays': 'Sénégal', 'ville': 'Dakar', 'adresse': 'Mbour'}\n"
     ]
    }
   ],
   "source": [
    "# 3.Créez un dictionnaire student et ajoutez le prénom, le nom, le sexe, l'âge, l'état civil, les compétences,\n",
    "# le pays, la ville et l'adresse comme clés pour le dictionnaire\n",
    "student={'prenom': 'Seynabou', 'nom': 'Ndour', 'sexe': 'F','âge': 28, 'etat_civil':'marié',\n",
    "         'Compétences': ['Statistiques', 'Informatique'], 'pays': 'Sénégal','ville':'Dakar', 'adresse': 'Mbour'}\n",
    "print(student)"
   ]
  },
  {
   "cell_type": "code",
   "execution_count": 89,
   "metadata": {},
   "outputs": [
    {
     "name": "stdout",
     "output_type": "stream",
     "text": [
      "9\n"
     ]
    }
   ],
   "source": [
    "# 4. Obtenez la longueur du dictionnaire student\n",
    "print(len(student))"
   ]
  },
  {
   "cell_type": "code",
   "execution_count": 90,
   "metadata": {},
   "outputs": [
    {
     "name": "stdout",
     "output_type": "stream",
     "text": [
      "['Statistiques', 'Informatique']\n"
     ]
    },
    {
     "data": {
      "text/plain": [
       "list"
      ]
     },
     "execution_count": 90,
     "metadata": {},
     "output_type": "execute_result"
    }
   ],
   "source": [
    "# 5.Récupérez la valeur des compétences et vérifiez le type de données, il doit s'agir d'une liste.\n",
    "print(student['Compétences'])\n",
    "type(student['Compétences'])"
   ]
  },
  {
   "cell_type": "code",
   "execution_count": 91,
   "metadata": {},
   "outputs": [
    {
     "name": "stdout",
     "output_type": "stream",
     "text": [
      "['Statistiques', 'Informatique', 'Analyse de données', 'Database management']\n"
     ]
    }
   ],
   "source": [
    "# 6.Modifiez les valeurs des compétences en ajoutant une ou deux compétences.\n",
    "student['Compétences']=student['Compétences']+['Analyse de données', 'Database management']\n",
    "print(student['Compétences'])"
   ]
  },
  {
   "cell_type": "code",
   "execution_count": 94,
   "metadata": {},
   "outputs": [
    {
     "name": "stdout",
     "output_type": "stream",
     "text": [
      "['prenom', 'nom', 'sexe', 'âge', 'etat_civil', 'Compétences', 'pays', 'ville', 'adresse']\n"
     ]
    }
   ],
   "source": [
    "#7.Obtenez les clés du dictionnaire sous forme de liste\n",
    "#list(student.keys())\n",
    "print([*student])"
   ]
  },
  {
   "cell_type": "code",
   "execution_count": 95,
   "metadata": {},
   "outputs": [
    {
     "data": {
      "text/plain": [
       "['Seynabou',\n",
       " 'Ndour',\n",
       " 'F',\n",
       " 28,\n",
       " 'marié',\n",
       " ['Statistiques', 'Informatique', 'Analyse de données', 'Database management'],\n",
       " 'Sénégal',\n",
       " 'Dakar',\n",
       " 'Mbour']"
      ]
     },
     "execution_count": 95,
     "metadata": {},
     "output_type": "execute_result"
    }
   ],
   "source": [
    "#8.Obtenir les valeurs du dictionnaire sous forme de liste\n",
    "list(student.values())"
   ]
  },
  {
   "cell_type": "code",
   "execution_count": 96,
   "metadata": {},
   "outputs": [
    {
     "name": "stdout",
     "output_type": "stream",
     "text": [
      "[('prenom', 'Seynabou'), ('nom', 'Ndour'), ('sexe', 'F'), ('âge', 28), ('etat_civil', 'marié'), ('Compétences', ['Statistiques', 'Informatique', 'Analyse de données', 'Database management']), ('pays', 'Sénégal'), ('ville', 'Dakar'), ('adresse', 'Mbour')]\n"
     ]
    }
   ],
   "source": [
    "#9.Transformer le dictionnaire en une liste de tuples en utilisant la méthode items()\n",
    "liste_tuples = list(student.items())\n",
    "print(liste_tuples)"
   ]
  },
  {
   "cell_type": "code",
   "execution_count": 97,
   "metadata": {},
   "outputs": [
    {
     "name": "stdout",
     "output_type": "stream",
     "text": [
      "{'prenom': 'Seynabou', 'nom': 'Ndour', 'sexe': 'F', 'âge': 28, 'etat_civil': 'marié', 'Compétences': ['Statistiques', 'Informatique', 'Analyse de données', 'Database management'], 'pays': 'Sénégal', 'adresse': 'Mbour'}\n"
     ]
    }
   ],
   "source": [
    "#10.Supprimer un des éléments du dictionnaire\n",
    "del student['ville']\n",
    "print(student)"
   ]
  },
  {
   "cell_type": "code",
   "execution_count": 98,
   "metadata": {},
   "outputs": [
    {
     "name": "stdout",
     "output_type": "stream",
     "text": [
      "[{'prenom': 'Seynabou', 'nom': 'Ndour', 'sexe': 'F', 'âge': 28, 'etat_civil': 'marié', 'Compétences': ['Statistiques', 'Informatique', 'Analyse de données', 'Database management'], 'pays': 'Sénégal', 'adresse': 'Mbour'}, {'nom': 'Gold', 'couleur': 'Gris', 'pattes': 4, 'âge': 5}]\n"
     ]
    }
   ],
   "source": [
    "#s11.Supprimer un des dictionnaires\n",
    "L=[student,dog]\n",
    "print(L)"
   ]
  },
  {
   "cell_type": "code",
   "execution_count": 99,
   "metadata": {},
   "outputs": [
    {
     "name": "stdout",
     "output_type": "stream",
     "text": [
      "[{'nom': 'Gold', 'couleur': 'Gris', 'pattes': 4, 'âge': 5}]\n"
     ]
    }
   ],
   "source": [
    "L.remove(student)\n",
    "print(L)"
   ]
  },
  {
   "cell_type": "markdown",
   "metadata": {
    "id": "ugc1Itzb8p4l"
   },
   "source": [
    "<center> <b> <span style=\"color:orange;\"> 🎉 FÉLICITATIONS ! / CONGRATULATIONS !🎉 </span> </b></center>"
   ]
  }
 ],
 "metadata": {
  "colab": {
   "name": "Exercices_02_Objets-itérables-ou-conteneurs.ipynb",
   "provenance": []
  },
  "kernelspec": {
   "display_name": "Python 3",
   "language": "python",
   "name": "python3"
  },
  "language_info": {
   "codemirror_mode": {
    "name": "ipython",
    "version": 3
   },
   "file_extension": ".py",
   "mimetype": "text/x-python",
   "name": "python",
   "nbconvert_exporter": "python",
   "pygments_lexer": "ipython3",
   "version": "3.7.3"
  }
 },
 "nbformat": 4,
 "nbformat_minor": 1
}
