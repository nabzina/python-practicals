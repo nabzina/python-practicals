{
 "cells": [
  {
   "cell_type": "markdown",
   "metadata": {},
   "source": [
    "<center>\n",
    "    <a href=\"https://www.aims-senegal.org/\" ><img src=\"aimssn_logo.png\" style=\"float:center; max-width: 600px; display: inline\" alt=\"IMSP\"/> </a>\n",
    "    </center>\n",
    "    \n",
    "#    <center> <b> <span style=\"color:orange;\" >  `Python for Scientific Computing and Software Engineering ` </span> </b></center>\n",
    "\n",
    "\n",
    "## <center> <b> <span style=\"color:orange;\"> An Initiation to Programming using Python (Init2Py) </span> </b></center>\n",
    "\n",
    "### <center> <b> <span style=\"color:blue;\"> Practicals: Variables, Types & Operations </span> </b></center>"
   ]
  },
  {
   "cell_type": "markdown",
   "metadata": {},
   "source": [
    "**Exercise 00:**  \n",
    "\n",
    "> 1. Declare a variable `firstname` and assign it a value.\n",
    "> 2. Declare a `lastname` variable and assign a value to it.\n",
    "> 3. Declare a `full_name` variable and assign it a value.\n",
    "> 4. Declare a `country` variable and assign it a value.\n",
    "> 5. Declare a variable `city` and assign it a value.\n",
    "> 6. Declare a `age` variable and assign it a value.\n",
    "> 7. Declare a variable `year` and assign it a value.\n",
    "> 8. Declare a variable `is_marrie` and assign it a value.\n",
    "> 9. Declare a variable `is_true` and assign it a value.\n",
    "\n",
    "> For each of the above variable, display the value it contains using the `print()` function.\n",
    "\n",
    "\n"
   ]
  },
  {
   "cell_type": "code",
   "execution_count": 5,
   "metadata": {},
   "outputs": [
    {
     "name": "stdout",
     "output_type": "stream",
     "text": [
      "My firstname is :  Seynabou\n",
      "My lastname is :  NDOUR\n",
      "My full_name is :  Seynabou NDOUR\n",
      "My country is :  Senegal\n",
      "My city is :  Thies\n",
      "My age is :  25\n",
      "My year is :  1996\n",
      "Married :  True\n",
      "Is true ? :  Yes\n"
     ]
    }
   ],
   "source": [
    "firstname='Seynabou'\n",
    "lastname='NDOUR'\n",
    "full_name= firstname +' '+ lastname\n",
    "country= 'Senegal'\n",
    "city='Thies'\n",
    "age=25\n",
    "year=1996\n",
    "is_married=True\n",
    "is_true= 'Yes'\n",
    "print ('My firstname is : ', firstname)\n",
    "print ('My lastname is : ', lastname)\n",
    "print ('My full_name is : ', full_name)\n",
    "print ('My country is : ', country)\n",
    "print ('My city is : ', city)\n",
    "print ('My age is : ', age)\n",
    "print ('My year is : ', year)\n",
    "print ('Married : ', is_married)\n",
    "print ('Is true ? : ', is_true)"
   ]
  },
  {
   "cell_type": "markdown",
   "metadata": {},
   "source": [
    "**Exercise 01:** \n",
    "> Check the data type of all your variables using the built-in function `type()`.**\n"
   ]
  },
  {
   "cell_type": "code",
   "execution_count": 6,
   "metadata": {},
   "outputs": [
    {
     "name": "stdout",
     "output_type": "stream",
     "text": [
      "<class 'str'>\n",
      "<class 'str'>\n",
      "<class 'str'>\n",
      "<class 'str'>\n",
      "<class 'int'>\n",
      "<class 'int'>\n",
      "<class 'bool'>\n",
      "<class 'str'>\n"
     ]
    }
   ],
   "source": [
    "Ma_list=[firstname, lastname,country,city, age, year,is_marrie, is_true]\n",
    "for i in Ma_list:\n",
    "    print(type(i))"
   ]
  },
  {
   "cell_type": "markdown",
   "metadata": {},
   "source": [
    "**Exercise 02:** \n",
    "> Calculate the value of $y$ ($y = x^2 + 6x + 9$). Try using different values of $x$ and determine at what value of $x$ will $y$ be equal to 0.**"
   ]
  },
  {
   "cell_type": "code",
   "execution_count": 7,
   "metadata": {},
   "outputs": [
    {
     "name": "stdout",
     "output_type": "stream",
     "text": [
      "0\n"
     ]
    }
   ],
   "source": [
    "x=-3\n",
    "y=x*x+6*x+9\n",
    "print(y)\n"
   ]
  },
  {
   "cell_type": "markdown",
   "metadata": {},
   "source": [
    "**Exercise 03:** \n",
    ">    \n",
    "     1. Declare your age as an integer variable\n",
    "     2. Declare your height as a float variable\n",
    "     3. Declare a variable that stores the base and height of a triangle. Calculate the area of this triangle (area = 0.5 x b x h)."
   ]
  },
  {
   "cell_type": "code",
   "execution_count": 8,
   "metadata": {},
   "outputs": [
    {
     "name": "stdout",
     "output_type": "stream",
     "text": [
      "15.0\n"
     ]
    }
   ],
   "source": [
    "age=25\n",
    "tail=float(178.5)\n",
    "b=5\n",
    "h= 6\n",
    "area=0.5*b*h\n",
    "print(area)\n"
   ]
  },
  {
   "cell_type": "markdown",
   "metadata": {},
   "source": [
    "## *Tip: receiving input from the user *\n",
    "**To receive an input from the user, we use `input()`.**.\n",
    "\n",
    "**Example**\n",
    "Receive two numbers as input from the user and calculate their power:\n",
    "```python\n",
    "base = input(\"Enter a base: \")\n",
    "exponent = input(\"Enter an exponent: \")\n",
    "result = float(base) ** float(exponent)\n",
    "print(f \"{base} to the power of {exponent} = {result}\")\n",
    "```"
   ]
  },
  {
   "cell_type": "markdown",
   "metadata": {},
   "source": [
    "**Exercise 04:** \n",
    "> **Write a small code that asks the user to enter the side $a$, the side $b$ and the side $c$ of a triangle. Calculate the perimeter of the triangle (perimeter = a + b + c).**"
   ]
  },
  {
   "cell_type": "code",
   "execution_count": 9,
   "metadata": {},
   "outputs": [
    {
     "name": "stdout",
     "output_type": "stream",
     "text": [
      "Enter the side a: 2\n",
      "Enter the side b: 4\n",
      "Enter the side c: 5\n",
      "le perimetre est :  11\n"
     ]
    }
   ],
   "source": [
    "A=input(\"Enter the side a: \")\n",
    "B=input(\"Enter the side b: \")\n",
    "C=input(\"Enter the side c: \")\n",
    "p=int(A)+int(B)+int(C)\n",
    "print('le perimetre est : ', p)"
   ]
  },
  {
   "cell_type": "markdown",
   "metadata": {},
   "source": [
    "**Exercise 05:** \n",
    "> **Obtain the length and width of a rectangle using the prompt. Calculate its `area`and its `perimeter`.**"
   ]
  },
  {
   "cell_type": "code",
   "execution_count": 10,
   "metadata": {},
   "outputs": [
    {
     "name": "stdout",
     "output_type": "stream",
     "text": [
      "Enter the length of the rectangle: 4\n",
      "Enter the width of the rectangle: 5\n",
      "Le perimetre du rectangle est :  18.0\n",
      "La surface du rectangle est :  20.0\n"
     ]
    }
   ],
   "source": [
    "l=input(\"Enter the length of the rectangle: \")\n",
    "w=input(\"Enter the width of the rectangle: \")\n",
    "peri=(float(l)+float(w))*2\n",
    "air=float(l)*float(w)\n",
    "print ('Le perimetre du rectangle est : ', peri)\n",
    "print ('La surface du rectangle est : ',air)"
   ]
  },
  {
   "cell_type": "markdown",
   "metadata": {},
   "source": [
    "**Exercice 06:** \n",
    "> **Obtenez le rayon d'un cercle en utilisant l'invite. Calculez l'aire (aire = pi x r x r) et la circonférence (c = 2 x pi x r) où pi = 3,14.**"
   ]
  },
  {
   "cell_type": "code",
   "execution_count": 11,
   "metadata": {},
   "outputs": [
    {
     "name": "stdout",
     "output_type": "stream",
     "text": [
      "Enter le rayon du cercle : 2\n",
      "L'aire du cercle est :  12.56\n",
      "La circonference du cercle est :  12.56\n"
     ]
    }
   ],
   "source": [
    "pi=3.14\n",
    "R=input('Enter le rayon du cercle : ')\n",
    "Aire=pi*float(R)*float(R)\n",
    "Circ=2*pi*float(R)\n",
    "print (\"L'aire du cercle est : \", Aire)\n",
    "print ('La circonference du cercle est : ',Circ)\n"
   ]
  },
  {
   "cell_type": "markdown",
   "metadata": {},
   "source": [
    "**Exercice 07:**\n",
    "> **Calculez la pente, l'ordonnée à l'origine en x et l'ordonnée à l'origine en $y$ de $y = 2x -2$.**"
   ]
  },
  {
   "cell_type": "code",
   "execution_count": 12,
   "metadata": {},
   "outputs": [
    {
     "name": "stdout",
     "output_type": "stream",
     "text": [
      "Entrer une valeur de x: 15\n",
      "Entrer une autre valeur plus grande de x: 18\n",
      "la pente est :  2.0\n",
      "l ordonnee a l origine est :  -2\n"
     ]
    }
   ],
   "source": [
    "x_1=input(\"Entrer une valeur de x: \")\n",
    "y_1=2*float(x_1)-2\n",
    "x_2=input(\"Entrer une autre valeur plus grande de x: \")\n",
    "y_2=2*float(x_2)-2\n",
    "pente=(float(y_2)-float(y_1))/(float(x_2)-float(x_1))\n",
    "ordo=2*0-2\n",
    "print(\"la pente est : \", pente)\n",
    "print(\"l ordonnee a l origine est : \", ordo )"
   ]
  },
  {
   "cell_type": "markdown",
   "metadata": {},
   "source": [
    "**Exercice 08:** \n",
    "> **Rédigez un script qui demande à l'utilisateur d'entrer les heures et le taux horaire. Calculez la rémunération de la personne ?**"
   ]
  },
  {
   "cell_type": "code",
   "execution_count": 13,
   "metadata": {},
   "outputs": [
    {
     "name": "stdout",
     "output_type": "stream",
     "text": [
      "Entrer le nombre d'heure de travail: 4\n",
      "Entrer votre taux horaire : 10000\n",
      "Votre renumeration est :  40000.0\n"
     ]
    }
   ],
   "source": [
    "nbrH=input(\"Entrer le nombre d'heure de travail: \")\n",
    "tH=input('Entrer votre taux horaire : ')\n",
    "R=float(nbrH)*float(tH)\n",
    "print('Votre renumeration est : ', R)"
   ]
  },
  {
   "cell_type": "markdown",
   "metadata": {},
   "source": [
    "**Exercice 09:** \n",
    "> **Écrivez un script qui demande à l'utilisateur d'entrer le nombre d'années. Calculez le nombre de secondes qu'une personne peut vivre. Supposons qu'une personne puisse vivre cent ans.**"
   ]
  },
  {
   "cell_type": "code",
   "execution_count": 14,
   "metadata": {},
   "outputs": [
    {
     "name": "stdout",
     "output_type": "stream",
     "text": [
      "Entrer le nombre d'annees : 25\n",
      "le nomre de secondes est :  788400000.0\n"
     ]
    }
   ],
   "source": [
    "nb=input(\"Entrer le nombre d'annees : \")\n",
    "nbre_sec=float(nb)*31536000 # on suppose que 1 an= 365 jours\n",
    "print(\"le nomre de secondes est : \", nbre_sec)"
   ]
  },
  {
   "cell_type": "markdown",
   "metadata": {},
   "source": [
    "**Exercice 10:** \n",
    "> **Écrivez un script Python qui affiche le tableau suivant**\n",
    "\n",
    "    1 1 1 1 1\n",
    "    \n",
    "    2 1 2 4 8\n",
    "    \n",
    "    3 1 3 9 27\n",
    "    \n",
    "    4 1 4 16 64\n",
    "    \n",
    "    5 1 5 25 125"
   ]
  },
  {
   "cell_type": "code",
   "execution_count": 15,
   "metadata": {},
   "outputs": [
    {
     "name": "stdout",
     "output_type": "stream",
     "text": [
      "1 1 1 1 1\n",
      "\n",
      "\n",
      "2 1 2 4 8\n",
      "\n",
      "\n",
      "3 1 3 9 27\n",
      "\n",
      "\n",
      "4 1 4 16 64\n",
      "\n",
      "\n",
      "5 1 5 25 125\n",
      "\n",
      "\n"
     ]
    }
   ],
   "source": [
    "for i in range(1,6):\n",
    "    print(i, 1, i, i**2,i**3)\n",
    "    print('\\n')"
   ]
  },
  {
   "cell_type": "markdown",
   "metadata": {},
   "source": [
    "**Exercise 11:** \n",
    ">**Assign the variables `time` and `distance` with the values $6.892$ and $19.7$. Calculate and display the value of the speed. Improve the display by imposing a digit after the decimal point.**"
   ]
  },
  {
   "cell_type": "code",
   "execution_count": 16,
   "metadata": {},
   "outputs": [
    {
     "name": "stdout",
     "output_type": "stream",
     "text": [
      "La vitesse  2.9\n"
     ]
    }
   ],
   "source": [
    "t=6.892\n",
    "d=19.7\n",
    "v=round(float(d)/float(t),1)\n",
    "print(\"La vitesse \", v)"
   ]
  },
  {
   "cell_type": "markdown",
   "metadata": {},
   "source": [
    "**Exercice 12:** \n",
    "> **Écrire un programme qui, à partir de la saisie d’un rayon et d’une hauteur, calcule levolume d’un cône droit.**\n",
    " V = 1/3Bh, où B = πr²"
   ]
  },
  {
   "cell_type": "code",
   "execution_count": 17,
   "metadata": {},
   "outputs": [
    {
     "name": "stdout",
     "output_type": "stream",
     "text": [
      "Entrer le rayon: 2\n",
      "Entrer la hauteur : 5\n",
      "Le volume d'un cone droit est :  20.933333333333334\n"
     ]
    }
   ],
   "source": [
    "pi=3.14\n",
    "r=input(\"Entrer le rayon: \")\n",
    "h=input('Entrer la hauteur : ')\n",
    "B=pi*float(r)*float(r)\n",
    "v= 1/3*float(B)*float(h)\n",
    "print(\"Le volume d'un cone droit est : \", v)\n"
   ]
  },
  {
   "cell_type": "markdown",
   "metadata": {},
   "source": [
    "**Exercise 13:** \n",
    "> **The user gives a positive integer and the program announces how many times in a row this integer is divisible by 2.**"
   ]
  },
  {
   "cell_type": "code",
   "execution_count": 22,
   "metadata": {},
   "outputs": [
    {
     "name": "stdout",
     "output_type": "stream",
     "text": [
      "Entrer un nombre positive : 8\n",
      "le nombre est 4 fois divisible par 2\n"
     ]
    }
   ],
   "source": [
    "a=input(\"Entrer un nombre positive : \")\n",
    "b=int(a)%2\n",
    "c=int(a)/2\n",
    "if  b == 0:\n",
    "   print(\"le nombre est\", int(c) ,'fois divisible par 2')\n",
    "else:\n",
    "   print(\"le nombre n'est pas divisible par 2\")\n"
   ]
  },
  {
   "cell_type": "markdown",
   "metadata": {},
   "source": [
    "**Exercise 14:** \n",
    ">**The user gives an integer between 2 and 12, the program gives the number of ways to do this by rolling two dice."
   ]
  },
  {
   "cell_type": "code",
   "execution_count": 24,
   "metadata": {},
   "outputs": [
    {
     "name": "stdout",
     "output_type": "stream",
     "text": [
      "gives an integer between 2 and 12 : 5\n"
     ]
    },
    {
     "data": {
      "text/plain": [
       "4"
      ]
     },
     "execution_count": 24,
     "metadata": {},
     "output_type": "execute_result"
    }
   ],
   "source": [
    "import random\n",
    "def dice(n):\n",
    "    x=random.randint(1,6)\n",
    "    y=random.randint(1,6)\n",
    "    for i in range(n):\n",
    "        z=x+y\n",
    "    return z\n",
    "t=int(input('gives an integer between 2 and 12 : '))\n",
    "dice(t)"
   ]
  },
  {
   "cell_type": "markdown",
   "metadata": {},
   "source": [
    "**Exercice 15:** \n",
    "> **Utilisez la fonction d'entrée intégrée `input()` pour obtenir le `_prénom_`, le `_nom_`, le `_pays_d_origine` et l'`_age_` d'un utilisateur et stockez la valeur dans les noms des variables correspondantes.**"
   ]
  },
  {
   "cell_type": "code",
   "execution_count": 25,
   "metadata": {},
   "outputs": [
    {
     "name": "stdout",
     "output_type": "stream",
     "text": [
      "Entrer votre prenom : Seynabou\n",
      "Entrer votre nom : Ndour\n",
      "Entrer votre pays d'origine : Senegal\n",
      "Entrer votre age : 28\n"
     ]
    }
   ],
   "source": [
    "pren=input(\"Entrer votre prenom : \")\n",
    "nom=input(\"Entrer votre nom : \")\n",
    "pays=input(\"Entrer votre pays d'origine : \")\n",
    "age=input(\"Entrer votre age : \")"
   ]
  },
  {
   "cell_type": "markdown",
   "metadata": {},
   "source": [
    "**Exercice 16:** \n",
    "\n",
    "**Déclarer $5$ comme `num_one` et $4$ comme `num_two`**\n",
    "\n",
    "   1. Additionner `num_one` et `num_two` et affecter la valeur à une variable `totale`.\n",
    "   2. Soustraire `num_two` de `num_one` et affecter la valeur à une variable `diff`.\n",
    "   3. Multipliez le `num_one` et le `num_two` et attribuez la valeur à une variable `produit`.\n",
    "   4. Divisez le `num_one` par le `num_two` et attribuez la valeur à une variable `division`.\n",
    "   5. Calculez `num_one` à la puissance de `num_two` et attribuez la valeur à une variable `exp`."
   ]
  },
  {
   "cell_type": "code",
   "execution_count": 30,
   "metadata": {},
   "outputs": [
    {
     "name": "stdout",
     "output_type": "stream",
     "text": [
      "le total de 1+2 est :  9\n",
      "la difference entre 2 et 1 est :  1\n",
      "la multiplication de 1 et 2 est :  20\n",
      "le produit de 1 et 2 est :  1.25\n",
      "1 a la puissance 2 est :  625\n"
     ]
    }
   ],
   "source": [
    "num_one=5\n",
    "num_two=4\n",
    "total=num_one+num_two\n",
    "print('le total de 1+2 est : ', total)\n",
    "diff=num_one - num_two\n",
    "print('la difference entre 2 et 1 est : ',diff)\n",
    "mult=num_one*num_two\n",
    "print('la multiplication de 1 et 2 est : ', mult)\n",
    "produit=num_one/num_two\n",
    "print('le produit de 1 et 2 est : ', produit)\n",
    "exp=num_one**num_two #exposant\n",
    "print('1 a la puissance 2 est : ', exp)"
   ]
  },
  {
   "cell_type": "markdown",
   "metadata": {},
   "source": [
    "<center> <b> <span style=\"color:orange;\"> 🎉 FÉLICITATIONS! / CONGRATULATIONS! 🎉 </span> </b></center>"
   ]
  }
 ],
 "metadata": {
  "kernelspec": {
   "display_name": "Python 3",
   "language": "python",
   "name": "python3"
  },
  "language_info": {
   "codemirror_mode": {
    "name": "ipython",
    "version": 3
   },
   "file_extension": ".py",
   "mimetype": "text/x-python",
   "name": "python",
   "nbconvert_exporter": "python",
   "pygments_lexer": "ipython3",
   "version": "3.7.3"
  }
 },
 "nbformat": 4,
 "nbformat_minor": 5
}
